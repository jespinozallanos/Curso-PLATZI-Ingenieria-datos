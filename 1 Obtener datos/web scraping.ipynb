{
 "nbformat": 4,
 "nbformat_minor": 2,
 "metadata": {
  "language_info": {
   "name": "python",
   "codemirror_mode": {
    "name": "ipython",
    "version": 3
   },
   "version": "3.8.2-final"
  },
  "orig_nbformat": 2,
  "file_extension": ".py",
  "mimetype": "text/x-python",
  "name": "python",
  "npconvert_exporter": "python",
  "pygments_lexer": "ipython3",
  "version": 3,
  "kernelspec": {
   "name": "python38264bitplatzidatacondaa1916bf86f0645438a1bcc3f200d90b5",
   "display_name": "Python 3.8.2 64-bit ('platzi_data': conda)"
  }
 },
 "cells": [
  {
   "cell_type": "markdown",
   "metadata": {},
   "source": [
    "## Extracción de información HTML"
   ],
   "execution_count": null,
   "outputs": []
  },
  {
   "cell_type": "code",
   "execution_count": null,
   "metadata": {
    "tags": [
     "outputPrepend"
    ]
   },
   "outputs": [],
   "source": [
    "import requests\n",
    "import bs4\n",
    "\n",
    "pagina = 'https://www.platzi.com'\n",
    "respond = requests.get(pagina)\n",
    "soup = bs4.BeautifulSoup(respond.text, 'html.parser')\n",
    "print(respond.text)"
   ]
  },
  {
   "cell_type": "markdown",
   "metadata": {},
   "source": [
    "### Obtenemos la informacion deseada"
   ],
   "execution_count": null,
   "outputs": []
  },
  {
   "cell_type": "code",
   "execution_count": null,
   "metadata": {},
   "outputs": [],
   "source": [
    "print(f'Titulo de la pagina \\n{soup.title.text}\\n') #Titulo de la pagina\n",
    "print(soup.select('meta[name=description]')) #Selecciona la etiqueta 'name' de css\n",
    "print(soup.select('meta[name=description]')[0]['content']) #Obtenemos la ind=formacion de la etiqueta 'content'"
   ]
  },
  {
   "cell_type": "markdown",
   "metadata": {},
   "source": [
    "### Obtener rutas de pagina\n",
    " Primero buscamos todo el contenido de la clase *RecentCourses-item*\n",
    " Luego agregamos a otra lista el contenido *href* de las etiquetas ***a***"
   ],
   "execution_count": null,
   "outputs": []
  },
  {
   "cell_type": "code",
   "execution_count": null,
   "metadata": {},
   "outputs": [],
   "source": [
    "courses_links = soup.select('.RecentCourses-item')\n",
    "for course in courses_links:\n",
    "    temp = course.a['href']\n",
    "    print(f'{temp}')\n",
    "\n",
    "courses = [course.a['href'] for course in courses_links]\n",
    "# print(courses_links)\n",
    "print(f'\\n\\n{courses}')"
   ]
  },
  {
   "cell_type": "code",
   "execution_count": null,
   "metadata": {},
   "outputs": [],
   "source": [
    "import re\n",
    "\n",
    "css_class = '.NextReleases-card'\n",
    "resent_courses_unfilter = soup.select(f'{css_class} a')\n",
    "\n",
    "for course in resent_courses_unfilter:\n",
    "    print(f'{course}')\n",
    "    match = re.findall('/.*\"', str(course))\n",
    "    match1 = re.findall('s/.+', match[0][:-1])\n",
    "    print(f'\\tRuta:   {pagina}{match[0][:-1]}')\n",
    "    print( '\\tCurso:  {}\\n'.format(match1[0][2:].replace('-', ' ')))\n",
    "\n"
   ]
  }
 ]
}