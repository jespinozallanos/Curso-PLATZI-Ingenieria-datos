{
 "nbformat": 4,
 "nbformat_minor": 2,
 "metadata": {
  "language_info": {
   "name": "python",
   "codemirror_mode": {
    "name": "ipython",
    "version": 3
   },
   "version": "3.8.2-final"
  },
  "orig_nbformat": 2,
  "file_extension": ".py",
  "mimetype": "text/x-python",
  "name": "python",
  "npconvert_exporter": "python",
  "pygments_lexer": "ipython3",
  "version": 3,
  "kernelspec": {
   "name": "python38264bitplatzidatacondaa1916bf86f0645438a1bcc3f200d90b5",
   "display_name": "Python 3.8.2 64-bit ('platzi_data': conda)"
  }
 },
 "cells": [
  {
   "cell_type": "markdown",
   "metadata": {},
   "source": [
    "\n",
    "# Missing data\n",
    "Existen varias fuciones para el manejo de datos faltantes\n",
    "\n",
    "## Eliminar registro\n",
    "Una estrategia valida para el manejo de datos faltantes es simplemente descartar el registro, conciderando que mientras menos registros tengamos nuestras concluciones seran menos precisas\n",
    "\n",
    "### isna()\n",
    "Crea un *Data Frame* con las mismas filas que el aplicado idicando los valores **True** cuando la fila tiene el campo vacio\n",
    "\n",
    "### notna()\n",
    "Marca **True** cuando existe algun valor en la fila y columna\n",
    "\n",
    "### dropna()\n",
    "Elimina el registro\n",
    "_____\n",
    "## Reemplazar registro\n",
    "Otra estrategia es llenar estos campos con datos concidos para poderlos usar, pero si queremos ver la distribucion de nuestros datos estos van ha ser afectados\n",
    "\n",
    "### fillna()\n",
    "Puedes llenar el campo con un registro bandera por ejemplo un -1\n",
    "\n",
    "### ffill()\n",
    "Llena el campo vacio con el campo del registro anterior\n"
   ],
   "execution_count": null,
   "outputs": []
  },
  {
   "cell_type": "code",
   "execution_count": null,
   "metadata": {},
   "outputs": [],
   "source": [
    "import pandas as pd\n",
    "import re\n",
    "\n",
    "el_universal = pd.read_csv('.\\eluniversal_2020_04_11_articles.csv', encoding='ISO-8859-1')\n",
    "\n",
    "missing_title_mask = el_universal['title'].isna()\n",
    "missing_title_mask"
   ]
  },
  {
   "cell_type": "code",
   "execution_count": null,
   "metadata": {},
   "outputs": [],
   "source": [
    "missing_titles = (el_universal[missing_title_mask]['url']\n",
    "                                                        .str.extract(r'(?P<missing_titles>[^/]+)$')    \n",
    "                                                        .applymap(lambda title: title.split('-'))\n",
    "                                                        .applymap(lambda title_word_list: ' '.join(title_word_list))                                                  \n",
    ")\n",
    "missing_titles"
   ]
  },
  {
   "cell_type": "markdown",
   "metadata": {},
   "source": [
    "# Duplicados\n",
    "## drop_duplicates()\n",
    "    subset: columna donde buscar duplicados\n",
    "    keep: Cual de los duplicados dejar\n"
   ],
   "execution_count": null,
   "outputs": []
  },
  {
   "cell_type": "code",
   "execution_count": null,
   "metadata": {},
   "outputs": [],
   "source": [
    "el_universal.drop_duplicates(subset=['title'], keep='first', inplace=True)"
   ]
  }
 ]
}