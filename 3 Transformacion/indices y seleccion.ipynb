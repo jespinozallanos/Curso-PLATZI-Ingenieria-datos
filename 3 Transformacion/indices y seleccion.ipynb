{
 "nbformat": 4,
 "nbformat_minor": 2,
 "metadata": {
  "language_info": {
   "name": "python",
   "codemirror_mode": {
    "name": "ipython",
    "version": 3
   },
   "version": "3.8.2-final"
  },
  "orig_nbformat": 2,
  "file_extension": ".py",
  "mimetype": "text/x-python",
  "name": "python",
  "npconvert_exporter": "python",
  "pygments_lexer": "ipython3",
  "version": 3,
  "kernelspec": {
   "name": "python38264bitplatzidatacondaa1916bf86f0645438a1bcc3f200d90b5",
   "display_name": "Python 3.8.2 64-bit ('platzi_data': conda)"
  }
 },
 "cells": [
  {
   "cell_type": "markdown",
   "metadata": {},
   "source": [
    "# Indices y Seleccion\n",
    "\n",
    "### Read data"
   ],
   "execution_count": null,
   "outputs": []
  },
  {
   "cell_type": "code",
   "execution_count": null,
   "metadata": {},
   "outputs": [],
   "source": [
    "import pandas as pd\n",
    "\n",
    "el_universal = pd.read_csv('.\\eluniversal_2020_04_11_articles.csv', encoding='ISO-8859-1') # El encoding es usado para caracteres de idiomas latinos, sin el obtenemos el error 'UnicodeDecodeError'\n",
    "# el_universal.tail() # Muestra las ultimas lineas, por default 5\n",
    "el_universal.head(10) # Muestra las primeras lineas, por default 5, recibe como parametro el numero de lineas"
   ]
  },
  {
   "cell_type": "markdown",
   "metadata": {},
   "source": [
    "### Dictionary like\n",
    "Hace una seleccion por **Columnas** para mostrar multiples columnas hay qu pasar una **lista** con el nombre de las columnas"
   ],
   "execution_count": null,
   "outputs": []
  },
  {
   "cell_type": "code",
   "execution_count": null,
   "metadata": {},
   "outputs": [],
   "source": [
    "el_universal.head()['title']"
   ]
  },
  {
   "cell_type": "code",
   "execution_count": null,
   "metadata": {},
   "outputs": [],
   "source": [
    "el_universal.head()[['title', 'url']]"
   ]
  },
  {
   "cell_type": "markdown",
   "metadata": {},
   "source": [
    "### Numpy like\n",
    "** Metodo *iloc (index location)*** </br>\n",
    "Hace seleccion por filas y/o columas mediante indices usando los ***slices*** de python, o tambien se puede combinar con el metodo *'Dictionary like'* para hacer un filtro por columnas mas legible"
   ],
   "execution_count": null,
   "outputs": []
  },
  {
   "cell_type": "code",
   "execution_count": null,
   "metadata": {},
   "outputs": [],
   "source": [
    "el_universal.iloc[10:15]"
   ]
  },
  {
   "cell_type": "code",
   "execution_count": null,
   "metadata": {},
   "outputs": [],
   "source": [
    "el_universal.iloc[:10, 1]"
   ]
  },
  {
   "cell_type": "code",
   "execution_count": null,
   "metadata": {},
   "outputs": [],
   "source": [
    "el_universal.iloc[7][['title', 'url']]"
   ]
  },
  {
   "cell_type": "markdown",
   "metadata": {},
   "source": [
    "### Label like\n",
    "**Metodo *loc (location)*** </br>\n",
    "Este metodo busca primero las filas y luego se manda un rango de las columnas\n"
   ],
   "execution_count": null,
   "outputs": []
  },
  {
   "cell_type": "code",
   "execution_count": null,
   "metadata": {},
   "outputs": [],
   "source": [
    "el_universal.loc[3:8, 'body': 'title']"
   ]
  }
 ]
}