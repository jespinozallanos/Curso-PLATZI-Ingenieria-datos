{
 "nbformat": 4,
 "nbformat_minor": 2,
 "metadata": {
  "language_info": {
   "name": "python",
   "codemirror_mode": {
    "name": "ipython",
    "version": 3
   },
   "version": "3.8.2-final"
  },
  "orig_nbformat": 2,
  "file_extension": ".py",
  "mimetype": "text/x-python",
  "name": "python",
  "npconvert_exporter": "python",
  "pygments_lexer": "ipython3",
  "version": 3,
  "kernelspec": {
   "name": "python38264bitplatzidatacondaa1916bf86f0645438a1bcc3f200d90b5",
   "display_name": "Python 3.8.2 64-bit ('platzi_data': conda)"
  }
 },
 "cells": [
  {
   "cell_type": "markdown",
   "metadata": {},
   "source": [
    "# Estructuras\n",
    "## Series\n",
    "Es un arreglo unidimensional de un ***mismo tipo de dato*** </br>\n",
    "El arreglo puede ser mediante indices **( listas )** o con llaves **( diccionarios )**"
   ]
  },
  {
   "cell_type": "code",
   "execution_count": 2,
   "metadata": {},
   "outputs": [
    {
     "output_type": "error",
     "ename": "NameError",
     "evalue": "name 'series_tes' is not defined",
     "traceback": [
      "\u001b[1;31m---------------------------------------------------------------------------\u001b[0m",
      "\u001b[1;31mNameError\u001b[0m                                 Traceback (most recent call last)",
      "\u001b[1;32m<ipython-input-2-e15d9f3c37cd>\u001b[0m in \u001b[0;36m<module>\u001b[1;34m\u001b[0m\n\u001b[0;32m      2\u001b[0m \u001b[1;33m\u001b[0m\u001b[0m\n\u001b[0;32m      3\u001b[0m \u001b[0mseries_test\u001b[0m \u001b[1;33m=\u001b[0m \u001b[0mpd\u001b[0m\u001b[1;33m.\u001b[0m\u001b[0mSeries\u001b[0m\u001b[1;33m(\u001b[0m\u001b[1;33m[\u001b[0m\u001b[1;36m100\u001b[0m\u001b[1;33m,\u001b[0m \u001b[1;36m200\u001b[0m\u001b[1;33m,\u001b[0m \u001b[1;36m300\u001b[0m\u001b[1;33m]\u001b[0m\u001b[1;33m)\u001b[0m\u001b[1;33m\u001b[0m\u001b[1;33m\u001b[0m\u001b[0m\n\u001b[1;32m----> 4\u001b[1;33m \u001b[0mseries_tes\u001b[0m\u001b[1;33m\u001b[0m\u001b[1;33m\u001b[0m\u001b[0m\n\u001b[0m",
      "\u001b[1;31mNameError\u001b[0m: name 'series_tes' is not defined"
     ]
    }
   ],
   "source": [
    "import pandas as pd\n",
    "\n",
    "series_test = pd.Series([100, 200, 300])\n",
    "series_tes"
   ]
  },
  {
   "cell_type": "code",
   "execution_count": 3,
   "metadata": {},
   "outputs": [
    {
     "output_type": "execute_result",
     "data": {
      "text/plain": "1999    48\n2000    65\n2001    89\ndtype: int64"
     },
     "metadata": {},
     "execution_count": 3
    }
   ],
   "source": [
    "series_test2 = pd.Series({1999: 48, \n",
    "                          2000: 65, \n",
    "                          2001: 89})\n",
    "\n",
    "series_test2"
   ]
  },
  {
   "cell_type": "markdown",
   "metadata": {},
   "source": [
    "## DataFrames\n",
    "Es una lista de lista donde cada lista representa todos los datos de una sola columna "
   ]
  },
  {
   "cell_type": "code",
   "execution_count": 4,
   "metadata": {},
   "outputs": [
    {
     "output_type": "execute_result",
     "data": {
      "text/plain": "   1999  2000  2001\n0    74    34    23\n1    38    32    39\n2    39    32    23",
      "text/html": "<div>\n<style scoped>\n    .dataframe tbody tr th:only-of-type {\n        vertical-align: middle;\n    }\n\n    .dataframe tbody tr th {\n        vertical-align: top;\n    }\n\n    .dataframe thead th {\n        text-align: right;\n    }\n</style>\n<table border=\"1\" class=\"dataframe\">\n  <thead>\n    <tr style=\"text-align: right;\">\n      <th></th>\n      <th>1999</th>\n      <th>2000</th>\n      <th>2001</th>\n    </tr>\n  </thead>\n  <tbody>\n    <tr>\n      <th>0</th>\n      <td>74</td>\n      <td>34</td>\n      <td>23</td>\n    </tr>\n    <tr>\n      <th>1</th>\n      <td>38</td>\n      <td>32</td>\n      <td>39</td>\n    </tr>\n    <tr>\n      <th>2</th>\n      <td>39</td>\n      <td>32</td>\n      <td>23</td>\n    </tr>\n  </tbody>\n</table>\n</div>"
     },
     "metadata": {},
     "execution_count": 4
    }
   ],
   "source": [
    "frame_test = pd.DataFrame({1999: [74, 38, 39],\n",
    "                           2000: [34, 32, 32],\n",
    "                           2001: [23, 39, 23]})\n",
    "\n",
    "frame_test"
   ]
  },
  {
   "cell_type": "code",
   "execution_count": 7,
   "metadata": {},
   "outputs": [
    {
     "output_type": "execute_result",
     "data": {
      "text/plain": "   1999  2000  2001\n0    74    38    39\n1    34    32    32\n2    23    39    23",
      "text/html": "<div>\n<style scoped>\n    .dataframe tbody tr th:only-of-type {\n        vertical-align: middle;\n    }\n\n    .dataframe tbody tr th {\n        vertical-align: top;\n    }\n\n    .dataframe thead th {\n        text-align: right;\n    }\n</style>\n<table border=\"1\" class=\"dataframe\">\n  <thead>\n    <tr style=\"text-align: right;\">\n      <th></th>\n      <th>1999</th>\n      <th>2000</th>\n      <th>2001</th>\n    </tr>\n  </thead>\n  <tbody>\n    <tr>\n      <th>0</th>\n      <td>74</td>\n      <td>38</td>\n      <td>39</td>\n    </tr>\n    <tr>\n      <th>1</th>\n      <td>34</td>\n      <td>32</td>\n      <td>32</td>\n    </tr>\n    <tr>\n      <th>2</th>\n      <td>23</td>\n      <td>39</td>\n      <td>23</td>\n    </tr>\n  </tbody>\n</table>\n</div>"
     },
     "metadata": {},
     "execution_count": 7
    }
   ],
   "source": [
    "frame_test2 = pd.DataFrame([[74, 38, 39],\n",
    "                           [34, 32, 32],\n",
    "                           [23, 39, 23]], columns=[1999, 2000, 2001])\n",
    "\n",
    "frame_test2"
   ]
  }
 ]
}