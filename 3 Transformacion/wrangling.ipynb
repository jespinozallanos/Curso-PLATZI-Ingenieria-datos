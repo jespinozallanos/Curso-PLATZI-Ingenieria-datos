{
 "nbformat": 4,
 "nbformat_minor": 2,
 "metadata": {
  "language_info": {
   "name": "python",
   "codemirror_mode": {
    "name": "ipython",
    "version": 3
   },
   "version": "3.8.2-final"
  },
  "orig_nbformat": 2,
  "file_extension": ".py",
  "mimetype": "text/x-python",
  "name": "python",
  "npconvert_exporter": "python",
  "pygments_lexer": "ipython3",
  "version": 3,
  "kernelspec": {
   "name": "python38264bitplatzidatacondaa1916bf86f0645438a1bcc3f200d90b5",
   "display_name": "Python 3.8.2 64-bit ('platzi_data': conda)"
  }
 },
 "cells": [
  {
   "cell_type": "markdown",
   "metadata": {},
   "source": [
    "# Data wrangling\n",
    "El data wranling consiste en limpiar y tranformar el data set para un uso mas optimo\n",
    "## Agregar columnas\n",
    "Para agregar columnas se usa la sintaxis de diccionario"
   ],
   "execution_count": null,
   "outputs": []
  },
  {
   "cell_type": "code",
   "execution_count": 1,
   "metadata": {},
   "outputs": [],
   "source": [
    "import pandas as pd\n",
    "pd.options.display.max_rows = 999\n",
    "\n",
    "el_universal = pd.read_csv('./eluniversal_2020_04_11_articles.csv', encoding='ISO-8859-1')"
   ]
  },
  {
   "cell_type": "code",
   "execution_count": 2,
   "metadata": {},
   "outputs": [
    {
     "output_type": "execute_result",
     "data": {
      "text/plain": "                                                 body  \\\n0   \\r\\nWashington.- Estados Unidos se convirtió e...   \n1   \\r\\n\\r\\n1 China. Clases de baile virtuales\\r\\n...   \n2   \\r\\nMe dio mucha preocupación y miedo de que ...   \n3   \\r\\nEl Consejo Nacional para Prevenir la Discr...   \n4   \\r\\nLa modelo y corista Mollie Gould no ha par...   \n5   \\r\\n\\r\\nTexto: Aída Castro Sánchez\\r\\n\\r\\nCom...   \n6    0 % PULSO SOCIAL0 La epidemia del coronavirus...   \n7   \\r\\nEl debut de los rojinegros del Atlas dejó ...   \n8   \\r\\n\\r\\n\\r\\n\\r\\n    googletag.cmd.push(functio...   \n9   \\r\\n\\r\\n\\r\\n\\r\\n    googletag.cmd.push(functio...   \n10  \\r\\nNUEVA YORK.- El estado de Nueva York regis...   \n\n                                                title  \\\n0   EU, primer país en registrar 2 mil muertos por...   \n1   Cuarentena: 5 curiosas maneras de sobrellevarl...   \n2         Tuve el temor de ser fuente de infección    \n3   Se duplican denuncias por discriminación a per...   \n4                                                 NaN   \n5                            Así termina una epidemia   \n6                                                 NaN   \n7                 El épico trolleo de Chivas al Atlas   \n8   Visita museos virtuales en el mundo: Museo de ...   \n9   Feria del Caballo Texcoco 2020: Nuevas fechas ...   \n10  Nueva York reporta aumento récord de muertes p...   \n\n                                                  url newspaper_uid  \n0   http://www.eluniversal.com.mx/mundo/eu-primer-...   eluniversal  \n1   http://www.eluniversal.com.mx/destinos/cuarent...   eluniversal  \n2   https://www.eluniversalqueretaro.mx/portada/tu...   eluniversal  \n3   http://www.eluniversal.com.mx/nacion/sociedad/...   eluniversal  \n4   https://www.viveusa.mx/showbiz/la-novia-de-lui...   eluniversal  \n5   https://www.eluniversal.com.mx/opinion/mochila...   eluniversal  \n6   https://de10.com.mx/vivir-bien/10-consejos-par...   eluniversal  \n7   http://www.eluniversal.com.mx/universal-deport...   eluniversal  \n8   http://www.unionpuebla.mx/articulo/2020/04/01/...   eluniversal  \n9   http://www.unionedomex.mx/articulo/2020/04/02/...   eluniversal  \n10  http://www.eluniversal.com.mx/mundo/coronaviru...   eluniversal  ",
      "text/html": "<div>\n<style scoped>\n    .dataframe tbody tr th:only-of-type {\n        vertical-align: middle;\n    }\n\n    .dataframe tbody tr th {\n        vertical-align: top;\n    }\n\n    .dataframe thead th {\n        text-align: right;\n    }\n</style>\n<table border=\"1\" class=\"dataframe\">\n  <thead>\n    <tr style=\"text-align: right;\">\n      <th></th>\n      <th>body</th>\n      <th>title</th>\n      <th>url</th>\n      <th>newspaper_uid</th>\n    </tr>\n  </thead>\n  <tbody>\n    <tr>\n      <th>0</th>\n      <td>\\r\\nWashington.- Estados Unidos se convirtió e...</td>\n      <td>EU, primer país en registrar 2 mil muertos por...</td>\n      <td>http://www.eluniversal.com.mx/mundo/eu-primer-...</td>\n      <td>eluniversal</td>\n    </tr>\n    <tr>\n      <th>1</th>\n      <td>\\r\\n\\r\\n1 China. Clases de baile virtuales\\r\\n...</td>\n      <td>Cuarentena: 5 curiosas maneras de sobrellevarl...</td>\n      <td>http://www.eluniversal.com.mx/destinos/cuarent...</td>\n      <td>eluniversal</td>\n    </tr>\n    <tr>\n      <th>2</th>\n      <td>\\r\\nMe dio mucha preocupación y miedo de que ...</td>\n      <td>Tuve el temor de ser fuente de infección</td>\n      <td>https://www.eluniversalqueretaro.mx/portada/tu...</td>\n      <td>eluniversal</td>\n    </tr>\n    <tr>\n      <th>3</th>\n      <td>\\r\\nEl Consejo Nacional para Prevenir la Discr...</td>\n      <td>Se duplican denuncias por discriminación a per...</td>\n      <td>http://www.eluniversal.com.mx/nacion/sociedad/...</td>\n      <td>eluniversal</td>\n    </tr>\n    <tr>\n      <th>4</th>\n      <td>\\r\\nLa modelo y corista Mollie Gould no ha par...</td>\n      <td>NaN</td>\n      <td>https://www.viveusa.mx/showbiz/la-novia-de-lui...</td>\n      <td>eluniversal</td>\n    </tr>\n    <tr>\n      <th>5</th>\n      <td>\\r\\n\\r\\nTexto: Aída Castro Sánchez\\r\\n\\r\\nCom...</td>\n      <td>Así termina una epidemia</td>\n      <td>https://www.eluniversal.com.mx/opinion/mochila...</td>\n      <td>eluniversal</td>\n    </tr>\n    <tr>\n      <th>6</th>\n      <td>0 % PULSO SOCIAL0 La epidemia del coronavirus...</td>\n      <td>NaN</td>\n      <td>https://de10.com.mx/vivir-bien/10-consejos-par...</td>\n      <td>eluniversal</td>\n    </tr>\n    <tr>\n      <th>7</th>\n      <td>\\r\\nEl debut de los rojinegros del Atlas dejó ...</td>\n      <td>El épico trolleo de Chivas al Atlas</td>\n      <td>http://www.eluniversal.com.mx/universal-deport...</td>\n      <td>eluniversal</td>\n    </tr>\n    <tr>\n      <th>8</th>\n      <td>\\r\\n\\r\\n\\r\\n\\r\\n    googletag.cmd.push(functio...</td>\n      <td>Visita museos virtuales en el mundo: Museo de ...</td>\n      <td>http://www.unionpuebla.mx/articulo/2020/04/01/...</td>\n      <td>eluniversal</td>\n    </tr>\n    <tr>\n      <th>9</th>\n      <td>\\r\\n\\r\\n\\r\\n\\r\\n    googletag.cmd.push(functio...</td>\n      <td>Feria del Caballo Texcoco 2020: Nuevas fechas ...</td>\n      <td>http://www.unionedomex.mx/articulo/2020/04/02/...</td>\n      <td>eluniversal</td>\n    </tr>\n    <tr>\n      <th>10</th>\n      <td>\\r\\nNUEVA YORK.- El estado de Nueva York regis...</td>\n      <td>Nueva York reporta aumento récord de muertes p...</td>\n      <td>http://www.eluniversal.com.mx/mundo/coronaviru...</td>\n      <td>eluniversal</td>\n    </tr>\n  </tbody>\n</table>\n</div>"
     },
     "metadata": {},
     "execution_count": 2
    }
   ],
   "source": [
    "el_universal['newspaper_uid'] = 'eluniversal'\n",
    "el_universal"
   ]
  },
  {
   "cell_type": "markdown",
   "metadata": {},
   "source": [
    "## Obtener el host\n",
    "Pandas permite usar librerias de terceros para la manipulacion de datos, con la ayuda de la libreria de urllib se puede hacer filtros del host en una url"
   ],
   "execution_count": null,
   "outputs": []
  },
  {
   "cell_type": "code",
   "execution_count": 5,
   "metadata": {},
   "outputs": [
    {
     "output_type": "execute_result",
     "data": {
      "text/plain": "                                                 body  \\\n0   \\r\\nWashington.- Estados Unidos se convirtió e...   \n1   \\r\\n\\r\\n1 China. Clases de baile virtuales\\r\\n...   \n2   \\r\\nMe dio mucha preocupación y miedo de que ...   \n3   \\r\\nEl Consejo Nacional para Prevenir la Discr...   \n4   \\r\\nLa modelo y corista Mollie Gould no ha par...   \n5   \\r\\n\\r\\nTexto: Aída Castro Sánchez\\r\\n\\r\\nCom...   \n6    0 % PULSO SOCIAL0 La epidemia del coronavirus...   \n7   \\r\\nEl debut de los rojinegros del Atlas dejó ...   \n8   \\r\\n\\r\\n\\r\\n\\r\\n    googletag.cmd.push(functio...   \n9   \\r\\n\\r\\n\\r\\n\\r\\n    googletag.cmd.push(functio...   \n10  \\r\\nNUEVA YORK.- El estado de Nueva York regis...   \n\n                                                title  \\\n0   EU, primer país en registrar 2 mil muertos por...   \n1   Cuarentena: 5 curiosas maneras de sobrellevarl...   \n2         Tuve el temor de ser fuente de infección    \n3   Se duplican denuncias por discriminación a per...   \n4                                                 NaN   \n5                            Así termina una epidemia   \n6                                                 NaN   \n7                 El épico trolleo de Chivas al Atlas   \n8   Visita museos virtuales en el mundo: Museo de ...   \n9   Feria del Caballo Texcoco 2020: Nuevas fechas ...   \n10  Nueva York reporta aumento récord de muertes p...   \n\n                                                  url newspaper_uid  \\\n0   http://www.eluniversal.com.mx/mundo/eu-primer-...   eluniversal   \n1   http://www.eluniversal.com.mx/destinos/cuarent...   eluniversal   \n2   https://www.eluniversalqueretaro.mx/portada/tu...   eluniversal   \n3   http://www.eluniversal.com.mx/nacion/sociedad/...   eluniversal   \n4   https://www.viveusa.mx/showbiz/la-novia-de-lui...   eluniversal   \n5   https://www.eluniversal.com.mx/opinion/mochila...   eluniversal   \n6   https://de10.com.mx/vivir-bien/10-consejos-par...   eluniversal   \n7   http://www.eluniversal.com.mx/universal-deport...   eluniversal   \n8   http://www.unionpuebla.mx/articulo/2020/04/01/...   eluniversal   \n9   http://www.unionedomex.mx/articulo/2020/04/02/...   eluniversal   \n10  http://www.eluniversal.com.mx/mundo/coronaviru...   eluniversal   \n\n                           host  \n0        www.eluniversal.com.mx  \n1        www.eluniversal.com.mx  \n2   www.eluniversalqueretaro.mx  \n3        www.eluniversal.com.mx  \n4                www.viveusa.mx  \n5        www.eluniversal.com.mx  \n6                   de10.com.mx  \n7        www.eluniversal.com.mx  \n8            www.unionpuebla.mx  \n9            www.unionedomex.mx  \n10       www.eluniversal.com.mx  ",
      "text/html": "<div>\n<style scoped>\n    .dataframe tbody tr th:only-of-type {\n        vertical-align: middle;\n    }\n\n    .dataframe tbody tr th {\n        vertical-align: top;\n    }\n\n    .dataframe thead th {\n        text-align: right;\n    }\n</style>\n<table border=\"1\" class=\"dataframe\">\n  <thead>\n    <tr style=\"text-align: right;\">\n      <th></th>\n      <th>body</th>\n      <th>title</th>\n      <th>url</th>\n      <th>newspaper_uid</th>\n      <th>host</th>\n    </tr>\n  </thead>\n  <tbody>\n    <tr>\n      <th>0</th>\n      <td>\\r\\nWashington.- Estados Unidos se convirtió e...</td>\n      <td>EU, primer país en registrar 2 mil muertos por...</td>\n      <td>http://www.eluniversal.com.mx/mundo/eu-primer-...</td>\n      <td>eluniversal</td>\n      <td>www.eluniversal.com.mx</td>\n    </tr>\n    <tr>\n      <th>1</th>\n      <td>\\r\\n\\r\\n1 China. Clases de baile virtuales\\r\\n...</td>\n      <td>Cuarentena: 5 curiosas maneras de sobrellevarl...</td>\n      <td>http://www.eluniversal.com.mx/destinos/cuarent...</td>\n      <td>eluniversal</td>\n      <td>www.eluniversal.com.mx</td>\n    </tr>\n    <tr>\n      <th>2</th>\n      <td>\\r\\nMe dio mucha preocupación y miedo de que ...</td>\n      <td>Tuve el temor de ser fuente de infección</td>\n      <td>https://www.eluniversalqueretaro.mx/portada/tu...</td>\n      <td>eluniversal</td>\n      <td>www.eluniversalqueretaro.mx</td>\n    </tr>\n    <tr>\n      <th>3</th>\n      <td>\\r\\nEl Consejo Nacional para Prevenir la Discr...</td>\n      <td>Se duplican denuncias por discriminación a per...</td>\n      <td>http://www.eluniversal.com.mx/nacion/sociedad/...</td>\n      <td>eluniversal</td>\n      <td>www.eluniversal.com.mx</td>\n    </tr>\n    <tr>\n      <th>4</th>\n      <td>\\r\\nLa modelo y corista Mollie Gould no ha par...</td>\n      <td>NaN</td>\n      <td>https://www.viveusa.mx/showbiz/la-novia-de-lui...</td>\n      <td>eluniversal</td>\n      <td>www.viveusa.mx</td>\n    </tr>\n    <tr>\n      <th>5</th>\n      <td>\\r\\n\\r\\nTexto: Aída Castro Sánchez\\r\\n\\r\\nCom...</td>\n      <td>Así termina una epidemia</td>\n      <td>https://www.eluniversal.com.mx/opinion/mochila...</td>\n      <td>eluniversal</td>\n      <td>www.eluniversal.com.mx</td>\n    </tr>\n    <tr>\n      <th>6</th>\n      <td>0 % PULSO SOCIAL0 La epidemia del coronavirus...</td>\n      <td>NaN</td>\n      <td>https://de10.com.mx/vivir-bien/10-consejos-par...</td>\n      <td>eluniversal</td>\n      <td>de10.com.mx</td>\n    </tr>\n    <tr>\n      <th>7</th>\n      <td>\\r\\nEl debut de los rojinegros del Atlas dejó ...</td>\n      <td>El épico trolleo de Chivas al Atlas</td>\n      <td>http://www.eluniversal.com.mx/universal-deport...</td>\n      <td>eluniversal</td>\n      <td>www.eluniversal.com.mx</td>\n    </tr>\n    <tr>\n      <th>8</th>\n      <td>\\r\\n\\r\\n\\r\\n\\r\\n    googletag.cmd.push(functio...</td>\n      <td>Visita museos virtuales en el mundo: Museo de ...</td>\n      <td>http://www.unionpuebla.mx/articulo/2020/04/01/...</td>\n      <td>eluniversal</td>\n      <td>www.unionpuebla.mx</td>\n    </tr>\n    <tr>\n      <th>9</th>\n      <td>\\r\\n\\r\\n\\r\\n\\r\\n    googletag.cmd.push(functio...</td>\n      <td>Feria del Caballo Texcoco 2020: Nuevas fechas ...</td>\n      <td>http://www.unionedomex.mx/articulo/2020/04/02/...</td>\n      <td>eluniversal</td>\n      <td>www.unionedomex.mx</td>\n    </tr>\n    <tr>\n      <th>10</th>\n      <td>\\r\\nNUEVA YORK.- El estado de Nueva York regis...</td>\n      <td>Nueva York reporta aumento récord de muertes p...</td>\n      <td>http://www.eluniversal.com.mx/mundo/coronaviru...</td>\n      <td>eluniversal</td>\n      <td>www.eluniversal.com.mx</td>\n    </tr>\n  </tbody>\n</table>\n</div>"
     },
     "metadata": {},
     "execution_count": 5
    }
   ],
   "source": [
    "from urllib.parse import urlparse\n",
    "\n",
    "el_universal['host'] = el_universal['url'].apply(lambda url: urlparse(url).netloc)\n",
    "el_universal"
   ]
  },
  {
   "cell_type": "markdown",
   "metadata": {},
   "source": [
    "## Frecuencia de datos\n",
    "La fucion ***value_counts*** crea un resumen de los datos"
   ]
  },
  {
   "cell_type": "code",
   "execution_count": 9,
   "metadata": {},
   "outputs": [
    {
     "output_type": "execute_result",
     "data": {
      "text/plain": "www.eluniversal.com.mx         6\nwww.unionedomex.mx             1\nde10.com.mx                    1\nwww.eluniversalqueretaro.mx    1\nwww.unionpuebla.mx             1\nwww.viveusa.mx                 1\nName: host, dtype: int64"
     },
     "metadata": {},
     "execution_count": 9
    }
   ],
   "source": [
    "el_universal['host'].value_counts()"
   ]
  }
 ]
}